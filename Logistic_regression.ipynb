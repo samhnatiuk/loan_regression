{
 "cells": [
  {
   "cell_type": "code",
   "execution_count": 38,
   "id": "078b18ff",
   "metadata": {},
   "outputs": [
    {
     "data": {
      "text/plain": [
       "\"In this notebook, we build a logistic regression model class from scratch. \\nThis differs from sklearn's model in that it accepts pandas dataframes + column names as \\ninputs, as opposed to arrays. Once we have built this, we test the model on sklearn data\\nto ensure it is working as expected, before testing the model on a subset of the \\nSBA loan datset.\""
      ]
     },
     "execution_count": 38,
     "metadata": {},
     "output_type": "execute_result"
    }
   ],
   "source": [
    "\"\"\"In this notebook, we build a logistic regression model class from scratch. \n",
    "This differs from sklearn's model in that it accepts pandas dataframes + column names as \n",
    "inputs, as opposed to arrays. Once we have built this, we test the model on sklearn data\n",
    "to ensure it is working as expected, before testing the model on a subset of the \n",
    "SBA loan datset.\"\"\""
   ]
  },
  {
   "cell_type": "code",
   "execution_count": 39,
   "id": "f0381411",
   "metadata": {},
   "outputs": [],
   "source": [
    "import pandas as pd\n",
    "import numpy as np\n",
    "import matplotlib.pyplot as plt\n",
    "from sklearn.model_selection import train_test_split"
   ]
  },
  {
   "cell_type": "code",
   "execution_count": 40,
   "id": "34989440",
   "metadata": {},
   "outputs": [],
   "source": [
    "class LogisticRegressionDf:\n",
    "\n",
    "    def __init__(self):\n",
    "        self.coef = None  # Coefficients of linear portion of model\n",
    "        self.feature_ls = None  # List of feature columns\n",
    "        self.target_str = None  # Name of target column\n",
    "        self.is_fitted = False  # True if model has been fit\n",
    "        self.features = None  # Normalised numpy array of model features (for fitting)\n",
    "        self.target = None  # Numpy array of binary target variable\n",
    "        self.fitted = None  # Model predictions for training data\n",
    "        self.predicted = None  # Prediction of model on testing data\n",
    "        self.loss_list = None  # Tracks loss through gradient descent during regression\n",
    "        self.predict_proba = None  # List of model probabilities following prediction\n",
    "\n",
    "    def __repr__(self):\n",
    "        return \"Logistic regression model for pandas dataframes\"\n",
    "\n",
    "    # Sigmoid function\n",
    "    @staticmethod\n",
    "    def sigmoid(z):\n",
    "        return 1 / (1 + np.exp(- z))\n",
    "\n",
    "    @staticmethod\n",
    "    def initialise(x, df):\n",
    "        \"\"\"Converts feature columns to a numpy array and normalises them.\n",
    "        Arguments:\n",
    "            x: list of column names acting as features\n",
    "            df: dataframe containing raw data.\"\"\"\n",
    "        x = np.array(df[x])\n",
    "        for i in range(np.shape(x)[1]):\n",
    "            x[:, i] = (x[:, i] - np.mean(x[:, i])) / np.std(x[:, i])\n",
    "        if len(x.shape) == 1:\n",
    "            x = x.reshape(-1, 1)\n",
    "        return x\n",
    "\n",
    "    # Converting set of pandas dataframe columns to np array. # EXPAND ON COMMENT\n",
    "    def data_ingest(self, df, x=None, y=None):\n",
    "        \"\"\"Converts data stored in a pandas dataframe to numpy arrays for fitting/predicting.\n",
    "        Arguments:\n",
    "            df: pandas dataframe, including both feature and target columns\n",
    "            x: A list of dataframe columns acting as features\n",
    "            y: Name of the column acting as the target \"\"\"\n",
    "        assert (\n",
    "            isinstance(df, pd.DataFrame)\n",
    "        ), \"df must be the pandas training dataframe\"\n",
    "\n",
    "        if x is not None:\n",
    "            assert (\n",
    "                isinstance(x, list)\n",
    "            ), \"x should be a list of feature columns\"\n",
    "\n",
    "            self.feature_ls = df[x].columns.values.tolist()\n",
    "            x = self.initialise(x, df)\n",
    "            self.features = x\n",
    "\n",
    "        if y is not None:\n",
    "            assert (\n",
    "                isinstance(y, str)\n",
    "            ), \"y should be the name of the target column (type str)\"\n",
    "\n",
    "            self.target_str = y\n",
    "            y = np.array(df[y])\n",
    "            self.target = y\n",
    "\n",
    "    # Fitting model\n",
    "    def fit(self, df, x=None, y=None, learning_rate=0.001, n_iter=400, threshold=0.5):\n",
    "        \"\"\"Fits logistic regression model. Arguments:\n",
    "            df: Dataframe where the features and target are stored\n",
    "            x: list of column names acting as features\n",
    "            y: name of target model\n",
    "            learning_rate, n_iter: values for gradient descent\n",
    "            threshold: threshold value for model fitting the training features\n",
    "            Note: we keep x=None, y=None possibilities for when data_ingest was called before fit\"\"\"\n",
    "\n",
    "        self.data_ingest(df, x, y)\n",
    "\n",
    "        if self.features is None:\n",
    "            print(\"Please specify a list of feature columns\")\n",
    "            return None\n",
    "        if self.target is None:\n",
    "            print(\"Please specify the name of the target column\")\n",
    "            return None\n",
    "\n",
    "        x, y = self.features, self.target\n",
    "\n",
    "        # Adding extra column to predictor matrix to account for intercept term\n",
    "        coef = np.zeros((np.shape(x)[1] + 1, 1))\n",
    "        x = np.c_[np.ones((np.shape(x)[0], 1)), x]\n",
    "\n",
    "        # Defining loss function\n",
    "        def loss(theta, eps=1e-5):  # eps to avoid zero arguments in the log\n",
    "            z = np.dot(x, theta)\n",
    "            loss0 = np.dot(y.T, np.log(self.sigmoid(z) + eps))  # -Cost if y = 1\n",
    "            loss1 = np.dot((1 - y).T, np.log(1 - self.sigmoid(z) + eps))  # -Cost if y = 0\n",
    "            return - (loss1 + loss0) / len(y)  # Dividing by number of losses\n",
    "\n",
    "        # Gradient descent\n",
    "        loss_ls = np.zeros(n_iter)\n",
    "        for i in range(n_iter):\n",
    "            coef = coef - learning_rate * np.dot(x.T, self.sigmoid(np.dot(x, coef))\n",
    "                                                 - np.reshape(y, (len(y), 1)))\n",
    "            loss_ls[i] = loss(coef)\n",
    "\n",
    "        self.coef = coef\n",
    "        self.loss_list = loss_ls\n",
    "        self.is_fitted = True\n",
    "\n",
    "        # Predicting known y values using model\n",
    "        fitted = []\n",
    "        for i in self.sigmoid(np.dot(x, coef)):\n",
    "            if i > threshold:\n",
    "                fitted.append(1)\n",
    "            else:\n",
    "                fitted.append(0)\n",
    "        self.fitted = fitted\n",
    "\n",
    "    def descent_plotter(self):\n",
    "        \"\"\"Plots loss as a function of iteration, for checking whether the model achieves gradient descent\"\"\"\n",
    "\n",
    "        if not self.is_fitted:\n",
    "            print(\"Model not yet fitted.\")\n",
    "            return None\n",
    "\n",
    "        y_vals = self.loss_list\n",
    "        x_vals = [i for i in range(len(y_vals))]\n",
    "\n",
    "        f, ax = plt.subplots()\n",
    "        plt.scatter(x_vals, y_vals)\n",
    "\n",
    "        ax.set_xlabel(\"Iteration\")\n",
    "        ax.set_ylabel(\"Loss\")\n",
    "        ax.set_title(\"Gradient descent\")\n",
    "\n",
    "        plt.show()\n",
    "\n",
    "    def predict(self, df, x=None, threshold=0.5, probabilities=False):\n",
    "        \"\"\"Performs prediction. Arguments:\n",
    "            df: testing/validating dataframe\n",
    "            x: list of columns acting as features. If None, use column list from fitting\n",
    "            threshold: when to cutoff.\n",
    "            probabilities: if True, returns a list of model probabilities\"\"\"\n",
    "\n",
    "        if not self.is_fitted:\n",
    "            print(\"Model not yet fitted.\")\n",
    "            return None\n",
    "\n",
    "        if x is None:\n",
    "            x = self.feature_ls\n",
    "\n",
    "        x = self.initialise(x, df)\n",
    "        z = np.dot(np.c_[np.ones((np.shape(x)[0], 1)), x], self.coef)\n",
    "        self.predict_proba = self.sigmoid(z)\n",
    "\n",
    "        predictions = []\n",
    "        for i in self.predict_proba:\n",
    "            if i >= threshold:\n",
    "                predictions.append(1)\n",
    "            else:\n",
    "                predictions.append(0)\n",
    "\n",
    "        self.predicted = predictions\n",
    "\n",
    "        if probabilities:\n",
    "            return self.predict_proba\n",
    "        return self.predicted\n",
    "\n",
    "    def scores(self, df, y_true=None, y_pred=None, accuracy=False, precision=False,\n",
    "               recall=False, f1_score=False, score_matrix=False):\n",
    "        \"\"\"Returns accuracy/precision/recall/F1 score of model.\n",
    "        Arguments:\n",
    "            df: dataframe containing true values for y\n",
    "            y_true: string of target column. If None, use name of target column used for fitting\n",
    "            y_pred: list of predicted y values. If None, use predicted values from prediction already ran\n",
    "            accuracy: if True, return accuracy\n",
    "            precision: if True, return precision\n",
    "            recall: if True, return recall\n",
    "            f1_score: if True, return F1 score\n",
    "            score_matrix: if True, return matrix of all four scores\"\"\"\n",
    "\n",
    "        if y_true is None:\n",
    "            y_true = self.target_str\n",
    "\n",
    "        y_true = np.array(df[y_true]).reshape(-1, 1)\n",
    "\n",
    "        if y_pred is None:\n",
    "            if self.predicted is None:\n",
    "                print(\"Model prediction not yet ran. Please do this, or specify a list of predicted values\")\n",
    "                return None\n",
    "            y_pred = self.predicted\n",
    "\n",
    "        if not any([accuracy, precision, recall, f1_score, score_matrix]):\n",
    "            print(\"Please specify a score metric\")\n",
    "            return None\n",
    "\n",
    "        if sum([accuracy, precision, recall, f1_score, score_matrix]) > 1:\n",
    "            print(\"Please specify at most one score, or specify score_matrix to get all four scores\")\n",
    "            return None\n",
    "\n",
    "        tp, tn, fp, fn = 0, 0, 0, 0\n",
    "        for i in range(len(y_true)):\n",
    "            if y_true[i] == 1 and y_pred[i] == 1:\n",
    "                tp += 1\n",
    "            elif y_true[i] == 0 and y_pred[i] == 0:\n",
    "                tn += 0\n",
    "            elif y_true[i] == 1 and y_pred[i] == 0:\n",
    "                fn += 1\n",
    "            elif y_true[i] == 0 and y_pred[i] == 1:\n",
    "                fp += 1\n",
    "\n",
    "        acc = (tp + tn) / (tp + fp + tn + fn)\n",
    "        prec = tp / (tp + fp)\n",
    "        rec = tp / (tp + fn)\n",
    "        f1 = 2 * prec * rec / (prec + rec)\n",
    "        score_mat = np.array([['Accuracy: ' + str(acc), 'Precision: ' + str(prec)],\n",
    "                              ['Recall: ' + str(rec), 'F1 Score: ' + str(f1)]])\n",
    "\n",
    "        if accuracy:\n",
    "            return acc\n",
    "        if precision:\n",
    "            return prec\n",
    "        if recall:\n",
    "            return rec\n",
    "        if f1_score:\n",
    "            return f1\n",
    "        return score_mat"
   ]
  },
  {
   "cell_type": "code",
   "execution_count": 41,
   "id": "2ead6bca",
   "metadata": {},
   "outputs": [],
   "source": [
    "# Testing class on sklearn data, and comparing it to sklearn's \n",
    "# built-in logistic regression model\n",
    "from sklearn.datasets import make_classification\n",
    "p, q = make_classification(n_features=4)"
   ]
  },
  {
   "cell_type": "code",
   "execution_count": 42,
   "id": "f583b795",
   "metadata": {},
   "outputs": [],
   "source": [
    "# Converting data to dataframe\n",
    "feature_list = ['f1', 'f2', 'f3', 'f4']\n",
    "df4 = pd.DataFrame(np.hstack((p, q.reshape(-1, 1))), columns=feature_list + ['target'])\n",
    "df_tr, df_te = train_test_split(df4, train_size=0.8, test_size=0.2)"
   ]
  },
  {
   "cell_type": "code",
   "execution_count": 43,
   "id": "8f1b23f4",
   "metadata": {},
   "outputs": [
    {
     "name": "stdout",
     "output_type": "stream",
     "text": [
      "0.9500000000000001\n",
      "0.9600000000000001\n"
     ]
    }
   ],
   "source": [
    "# Fitting model\n",
    "model = LogisticRegressionDf()\n",
    "model.fit(df_tr, x=feature_list, y='target')\n",
    "print(model.scores(df_tr, y_pred=model.fitted, f1_score=True))\n",
    "model.predict(df_te)\n",
    "print(model.scores(df_te, f1_score=True)) \n",
    "# Good F1 score"
   ]
  },
  {
   "cell_type": "code",
   "execution_count": 44,
   "id": "d8842866",
   "metadata": {},
   "outputs": [
    {
     "data": {
      "image/png": "[encoded data removed]",
      "text/plain": [
       "<Figure size 640x480 with 1 Axes>"
      ]
     },
     "metadata": {},
     "output_type": "display_data"
    }
   ],
   "source": [
    "# Checking if descent plotter works\n",
    "model.descent_plotter()\n",
    "# It seems to be"
   ]
  },
  {
   "cell_type": "code",
   "execution_count": 45,
   "id": "01ee29be",
   "metadata": {},
   "outputs": [
    {
     "name": "stdout",
     "output_type": "stream",
     "text": [
      "0.9500000000000001\n",
      "0.9600000000000001\n"
     ]
    }
   ],
   "source": [
    "# Comparing to sklearn's model\n",
    "from sklearn.linear_model import LogisticRegression\n",
    "from sklearn.metrics import f1_score\n",
    "\n",
    "model2 = LogisticRegression()\n",
    "p_tr, p_te, q_tr, q_te = train_test_split(p, q, train_size=0.8, test_size=0.2)\n",
    "model2.fit(p_tr, q_tr)\n",
    "print(f1_score(q_tr, model2.predict(p_tr)))\n",
    "print(f1_score(q_te, model2.predict(p_te)))\n",
    "# Same as ours!"
   ]
  },
  {
   "cell_type": "code",
   "execution_count": 46,
   "id": "a7e63ae1",
   "metadata": {},
   "outputs": [],
   "source": [
    "# Now it's time to test the model on our data. Extracting dataframe:\n",
    "loan_df = pd.read_csv('SBANational_regr.csv', dtype={'ApprovalDate': str, 'DisbursementDate': str},\n",
    "                      parse_dates=['ApprovalDate', 'DisbursementDate'])"
   ]
  },
  {
   "cell_type": "code",
   "execution_count": 47,
   "id": "c1a94d48",
   "metadata": {},
   "outputs": [
    {
     "data": {
      "text/plain": [
       "\"Although we identified Industry and State as potential risk indicators, \\nthe inclusion of 50 state and 20 industry classifications could cause problems. Thus, we restrict the dataset to the state of\\nTexas and the industry 'Retail trade'.\""
      ]
     },
     "execution_count": 47,
     "metadata": {},
     "output_type": "execute_result"
    }
   ],
   "source": [
    "\"\"\"Although we identified Industry and State as potential risk indicators, \n",
    "the inclusion of 50 state and 20 industry classifications could cause problems. Thus, we restrict the dataset to the state of\n",
    "Texas and the industry 'Retail trade'.\"\"\""
   ]
  },
  {
   "cell_type": "code",
   "execution_count": 48,
   "id": "411c986f",
   "metadata": {},
   "outputs": [
    {
     "name": "stdout",
     "output_type": "stream",
     "text": [
      "9292\n"
     ]
    }
   ],
   "source": [
    "loan_df = loan_df[(loan_df.State == 'TX') & (loan_df.Industry == 'Retail trade')]\n",
    "print(len(loan_df))\n",
    "# We still have sufficient data for the model to run well."
   ]
  },
  {
   "cell_type": "code",
   "execution_count": 49,
   "id": "6afb8d8f",
   "metadata": {},
   "outputs": [
    {
     "data": {
      "text/plain": [
       "\"We will now select model coefficients. We will pick 4 datapoints which correlated strongly\\nwith MIS_Status (DisbursementGross, RealEstate, Recession, Portion) and one which didn't\\n(NewExist) for validation purposes.\""
      ]
     },
     "execution_count": 49,
     "metadata": {},
     "output_type": "execute_result"
    }
   ],
   "source": [
    "\"\"\"We will now select model coefficients. We will pick 4 datapoints which correlated strongly\n",
    "with MIS_Status (DisbursementGross, RealEstate, Recession, Portion) and one which didn't\n",
    "(NewExist) for validation purposes.\"\"\""
   ]
  },
  {
   "cell_type": "code",
   "execution_count": 50,
   "id": "a71c84d6",
   "metadata": {},
   "outputs": [],
   "source": [
    "feat_ls = ['NewExist', 'Portion', 'Recession', 'RealEstate', 'DisbursementGross']\n",
    "loan_df = loan_df[feat_ls + ['Default']]"
   ]
  },
  {
   "cell_type": "code",
   "execution_count": 51,
   "id": "b0a4e839",
   "metadata": {},
   "outputs": [],
   "source": [
    "# Initialising model and ingesting training data\n",
    "loan_model = LogisticRegressionDf()\n",
    "loan_df_tr, loan_df_te = train_test_split(loan_df, train_size=0.5, test_size=0.5)\n",
    "loan_model.data_ingest(loan_df_tr, feat_ls, 'Default')"
   ]
  },
  {
   "cell_type": "code",
   "execution_count": 52,
   "id": "830e27ad",
   "metadata": {},
   "outputs": [
    {
     "data": {
      "image/png": "[encoded data removed]",
      "text/plain": [
       "<Figure size 640x480 with 1 Axes>"
      ]
     },
     "metadata": {},
     "output_type": "display_data"
    }
   ],
   "source": [
    "# Fitting and checking descent.\n",
    "loan_model.fit(loan_df_tr, n_iter=3000, learning_rate=0.0001)\n",
    "loan_model.descent_plotter()\n",
    "# Good so far!"
   ]
  },
  {
   "cell_type": "code",
   "execution_count": 53,
   "id": "0d45e0cf",
   "metadata": {},
   "outputs": [
    {
     "name": "stdout",
     "output_type": "stream",
     "text": [
      "F1 score :0.871124031007752\n"
     ]
    }
   ],
   "source": [
    "# Predicting and obtaining F1 score from testing data\n",
    "loan_model.predict(loan_df_te, probabilities=True)\n",
    "print('F1 score :' + str(loan_model.scores(loan_df_te, f1_score=True)))\n",
    "# Good F1 score!"
   ]
  },
  {
   "cell_type": "code",
   "execution_count": 54,
   "id": "b38352fd",
   "metadata": {},
   "outputs": [
    {
     "data": {
      "text/plain": [
       "'As mentioned above, we will now drop NewExist as one of the feature columns, and see if \\nthe model is at all affected.'"
      ]
     },
     "execution_count": 54,
     "metadata": {},
     "output_type": "execute_result"
    }
   ],
   "source": [
    "\"\"\"As mentioned above, we will now drop NewExist as one of the feature columns, and see if \n",
    "the model is at all affected.\"\"\""
   ]
  },
  {
   "cell_type": "code",
   "execution_count": 55,
   "id": "76547d1e",
   "metadata": {},
   "outputs": [
    {
     "name": "stdout",
     "output_type": "stream",
     "text": [
      "F1 score: 0.8548155246765692\n"
     ]
    }
   ],
   "source": [
    "loan_df_2 = loan_df.copy(deep=True)\n",
    "feat_ls_2 = feat_ls[1:]\n",
    "loan_df_2 = loan_df_2.drop(columns=['NewExist'])\n",
    "loan_model_2 = LogisticRegressionDf()\n",
    "loan_df_tr_2, loan_df_te_2 = train_test_split(loan_df_2, train_size=0.5, test_size=0.5)\n",
    "loan_model_2.data_ingest(loan_df_tr_2, feat_ls_2, 'Default')\n",
    "loan_model_2.fit(loan_df_tr_2, n_iter=3000, learning_rate=0.0001)\n",
    "loan_model_2.predict(loan_df_te_2, probabilities=True)\n",
    "print('F1 score: ' + str(loan_model_2.scores(loan_df_te_2, f1_score=True)))\n",
    "# The F1 score is still high!"
   ]
  }
 ],
 "metadata": {
  "kernelspec": {
   "display_name": "Python 3 (ipykernel)",
   "language": "python",
   "name": "python3"
  },
  "language_info": {
   "codemirror_mode": {
    "name": "ipython",
    "version": 3
   },
   "file_extension": ".py",
   "mimetype": "text/x-python",
   "name": "python",
   "nbconvert_exporter": "python",
   "pygments_lexer": "ipython3",
   "version": "3.10.10"
  }
 },
 "nbformat": 4,
 "nbformat_minor": 5
}
